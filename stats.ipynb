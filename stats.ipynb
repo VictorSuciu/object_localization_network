{
 "cells": [
  {
   "cell_type": "code",
   "execution_count": null,
   "metadata": {},
   "outputs": [],
   "source": [
    "import os\n",
    "import matplotlib.pyplot as plt\n",
    "import numpy as np\n",
    "import pandas as pd\n",
    "from collections import Counter\n",
    "from torchvision.models import ResNet50_Weights\n"
   ]
  },
  {
   "cell_type": "code",
   "execution_count": null,
   "metadata": {},
   "outputs": [],
   "source": [
    "csv_dir = '/home/vsuciu/data/hdvila/videos/bboxes'"
   ]
  },
  {
   "cell_type": "code",
   "execution_count": null,
   "metadata": {},
   "outputs": [],
   "source": [
    "def imagenet_hist(csv_fps):\n",
    "    for fp in csv_fps:\n",
    "        video_df = pd.read_csv(fp)\n",
    "        unique = video_df.groupby(['imagenet_label'], as_index=False).count()"
   ]
  },
  {
   "cell_type": "markdown",
   "metadata": {},
   "source": [
    "## Read data"
   ]
  },
  {
   "cell_type": "code",
   "execution_count": null,
   "metadata": {},
   "outputs": [],
   "source": [
    "csv_fps = [os.path.join(csv_dir, d) for d in os.listdir(csv_dir) if d[-4:] == '.csv']"
   ]
  },
  {
   "cell_type": "code",
   "execution_count": null,
   "metadata": {},
   "outputs": [],
   "source": [
    "video_df = pd.read_csv(csv_fps[0])\n",
    "video_df"
   ]
  },
  {
   "cell_type": "markdown",
   "metadata": {},
   "source": [
    "## Count total imagenet class occurances"
   ]
  },
  {
   "cell_type": "code",
   "execution_count": null,
   "metadata": {},
   "outputs": [],
   "source": [
    "model_meta = ResNet50_Weights.IMAGENET1K_V2\n",
    "all_imgnet_classes = model_meta.meta['categories']\n",
    "class_counter = Counter({label: 0 for label in all_imgnet_classes})\n",
    "\n",
    "for fp in csv_fps:\n",
    "    video_df = pd.read_csv(fp)\n",
    "    for label in video_df['imagenet_label']:\n",
    "        class_counter[label] += 1"
   ]
  },
  {
   "cell_type": "markdown",
   "metadata": {},
   "source": [
    "## Count unique imagnet class occurances\n",
    "only count one of each class per video"
   ]
  },
  {
   "cell_type": "code",
   "execution_count": null,
   "metadata": {},
   "outputs": [],
   "source": [
    "model_meta = ResNet50_Weights.IMAGENET1K_V2\n",
    "all_imgnet_classes = model_meta.meta['categories']\n",
    "unique_class_counter = Counter({label: 0 for label in all_imgnet_classes})\n",
    "\n",
    "for fp in csv_fps:\n",
    "    video_df = pd.read_csv(fp)\n",
    "    for label in video_df['imagenet_label'].unique():\n",
    "        unique_class_counter[label] += 1"
   ]
  },
  {
   "cell_type": "markdown",
   "metadata": {},
   "source": [
    "## Count number of seen imagenet classes"
   ]
  },
  {
   "cell_type": "code",
   "execution_count": null,
   "metadata": {},
   "outputs": [],
   "source": [
    "nonzero_count = 0\n",
    "\n",
    "for category in unique_class_counter.keys():\n",
    "    if unique_class_counter[category] > 0:\n",
    "        nonzero_count += 1\n",
    "print(f'Found {nonzero_count}/{len(all_imgnet_classes)} classes')"
   ]
  },
  {
   "cell_type": "code",
   "execution_count": null,
   "metadata": {},
   "outputs": [],
   "source": [
    "print(class_counter['-1'])\n",
    "print(len(model_meta.meta['categories']))\n",
    "print('killer whale' in np.array(all_imgnet_classes))"
   ]
  },
  {
   "cell_type": "markdown",
   "metadata": {},
   "source": [
    "## Visualize counts"
   ]
  },
  {
   "cell_type": "code",
   "execution_count": null,
   "metadata": {},
   "outputs": [],
   "source": [
    "def plot_counter(counter):\n",
    "    key_list = [k for k in counter.keys()]\n",
    "    count_list = [[k, counter[k]] for k in key_list]\n",
    "    count_list.sort(key=lambda x: x[1])\n",
    "    print(count_list[:20])\n",
    "    print()\n",
    "    print(count_list[-20:])\n",
    "    plt.bar([element[0] for element in count_list], [element[1] for element in count_list])"
   ]
  },
  {
   "cell_type": "code",
   "execution_count": null,
   "metadata": {},
   "outputs": [],
   "source": [
    "plot_counter(class_counter)"
   ]
  },
  {
   "cell_type": "code",
   "execution_count": null,
   "metadata": {},
   "outputs": [],
   "source": [
    "plot_counter(unique_class_counter)"
   ]
  },
  {
   "cell_type": "code",
   "execution_count": null,
   "metadata": {},
   "outputs": [],
   "source": [
    "for class_name, count in imgnet_count_list[-50:]:\n",
    "    print(element)"
   ]
  }
 ],
 "metadata": {
  "kernelspec": {
   "display_name": "Python 3.8.15 ('oln': conda)",
   "language": "python",
   "name": "python3"
  },
  "language_info": {
   "codemirror_mode": {
    "name": "ipython",
    "version": 3
   },
   "file_extension": ".py",
   "mimetype": "text/x-python",
   "name": "python",
   "nbconvert_exporter": "python",
   "pygments_lexer": "ipython3",
   "version": "3.8.15"
  },
  "orig_nbformat": 4,
  "vscode": {
   "interpreter": {
    "hash": "eeb746b603e7fadf611af56fdd0547e9654ee15c307733b03ad5530c6c70b658"
   }
  }
 },
 "nbformat": 4,
 "nbformat_minor": 2
}
