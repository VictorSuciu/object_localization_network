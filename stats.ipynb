{
 "cells": [
  {
   "cell_type": "code",
   "execution_count": 18,
   "metadata": {},
   "outputs": [],
   "source": [
    "import os\n",
    "import sys\n",
    "import argparse\n",
    "import matplotlib.pyplot as plt\n",
    "import numpy as np\n",
    "import pandas as pd\n",
    "from collections import Counter\n",
    "from torchvision.models import ResNet50_Weights\n"
   ]
  },
  {
   "cell_type": "code",
   "execution_count": 19,
   "metadata": {},
   "outputs": [],
   "source": [
    "csv_dir = '/home/vsuciu/data/hdvila/videos/bboxes'"
   ]
  },
  {
   "cell_type": "code",
   "execution_count": 20,
   "metadata": {},
   "outputs": [],
   "source": [
    "def imagenet_hist(csv_fps):\n",
    "    for fp in csv_fps:\n",
    "        video_df = pd.read_csv(fp)\n",
    "        unique = video_df.groupby(['imagenet_label'], as_index=False).count()"
   ]
  },
  {
   "cell_type": "code",
   "execution_count": 21,
   "metadata": {},
   "outputs": [],
   "source": [
    "csv_fps = [os.path.join(csv_dir, d) for d in os.listdir(csv_dir) if d[-4:] == '.csv']"
   ]
  },
  {
   "cell_type": "code",
   "execution_count": 22,
   "metadata": {},
   "outputs": [
    {
     "data": {
      "text/html": [
       "<div>\n",
       "<style scoped>\n",
       "    .dataframe tbody tr th:only-of-type {\n",
       "        vertical-align: middle;\n",
       "    }\n",
       "\n",
       "    .dataframe tbody tr th {\n",
       "        vertical-align: top;\n",
       "    }\n",
       "\n",
       "    .dataframe thead th {\n",
       "        text-align: right;\n",
       "    }\n",
       "</style>\n",
       "<table border=\"1\" class=\"dataframe\">\n",
       "  <thead>\n",
       "    <tr style=\"text-align: right;\">\n",
       "      <th></th>\n",
       "      <th>frame_idx</th>\n",
       "      <th>x1</th>\n",
       "      <th>y1</th>\n",
       "      <th>x2</th>\n",
       "      <th>y2</th>\n",
       "      <th>coco_label</th>\n",
       "      <th>coco_label_score</th>\n",
       "      <th>imagenet_label</th>\n",
       "      <th>imagenet_label_score</th>\n",
       "    </tr>\n",
       "  </thead>\n",
       "  <tbody>\n",
       "    <tr>\n",
       "      <th>0</th>\n",
       "      <td>50</td>\n",
       "      <td>536.0</td>\n",
       "      <td>1320.0</td>\n",
       "      <td>168.0</td>\n",
       "      <td>917.0</td>\n",
       "      <td>29</td>\n",
       "      <td>0.274800</td>\n",
       "      <td>volleyball</td>\n",
       "      <td>0.365488</td>\n",
       "    </tr>\n",
       "    <tr>\n",
       "      <th>1</th>\n",
       "      <td>50</td>\n",
       "      <td>540.0</td>\n",
       "      <td>1321.0</td>\n",
       "      <td>166.0</td>\n",
       "      <td>904.0</td>\n",
       "      <td>32</td>\n",
       "      <td>0.296998</td>\n",
       "      <td>volleyball</td>\n",
       "      <td>0.385834</td>\n",
       "    </tr>\n",
       "    <tr>\n",
       "      <th>2</th>\n",
       "      <td>50</td>\n",
       "      <td>556.0</td>\n",
       "      <td>1309.0</td>\n",
       "      <td>186.0</td>\n",
       "      <td>916.0</td>\n",
       "      <td>37</td>\n",
       "      <td>0.194854</td>\n",
       "      <td>volleyball</td>\n",
       "      <td>0.301081</td>\n",
       "    </tr>\n",
       "    <tr>\n",
       "      <th>3</th>\n",
       "      <td>50</td>\n",
       "      <td>550.0</td>\n",
       "      <td>1329.0</td>\n",
       "      <td>161.0</td>\n",
       "      <td>929.0</td>\n",
       "      <td>41</td>\n",
       "      <td>0.245860</td>\n",
       "      <td>volleyball</td>\n",
       "      <td>0.391618</td>\n",
       "    </tr>\n",
       "    <tr>\n",
       "      <th>4</th>\n",
       "      <td>50</td>\n",
       "      <td>542.0</td>\n",
       "      <td>1351.0</td>\n",
       "      <td>157.0</td>\n",
       "      <td>931.0</td>\n",
       "      <td>45</td>\n",
       "      <td>0.165722</td>\n",
       "      <td>volleyball</td>\n",
       "      <td>0.366610</td>\n",
       "    </tr>\n",
       "    <tr>\n",
       "      <th>...</th>\n",
       "      <td>...</td>\n",
       "      <td>...</td>\n",
       "      <td>...</td>\n",
       "      <td>...</td>\n",
       "      <td>...</td>\n",
       "      <td>...</td>\n",
       "      <td>...</td>\n",
       "      <td>...</td>\n",
       "      <td>...</td>\n",
       "    </tr>\n",
       "    <tr>\n",
       "      <th>506</th>\n",
       "      <td>2500</td>\n",
       "      <td>1.0</td>\n",
       "      <td>86.0</td>\n",
       "      <td>481.0</td>\n",
       "      <td>630.0</td>\n",
       "      <td>66</td>\n",
       "      <td>0.210311</td>\n",
       "      <td>rule</td>\n",
       "      <td>0.036090</td>\n",
       "    </tr>\n",
       "    <tr>\n",
       "      <th>507</th>\n",
       "      <td>2500</td>\n",
       "      <td>26.0</td>\n",
       "      <td>1070.0</td>\n",
       "      <td>144.0</td>\n",
       "      <td>1058.0</td>\n",
       "      <td>66</td>\n",
       "      <td>0.140938</td>\n",
       "      <td>digital watch</td>\n",
       "      <td>0.084933</td>\n",
       "    </tr>\n",
       "    <tr>\n",
       "      <th>508</th>\n",
       "      <td>2500</td>\n",
       "      <td>638.0</td>\n",
       "      <td>922.0</td>\n",
       "      <td>560.0</td>\n",
       "      <td>786.0</td>\n",
       "      <td>67</td>\n",
       "      <td>0.531089</td>\n",
       "      <td>digital watch</td>\n",
       "      <td>0.154304</td>\n",
       "    </tr>\n",
       "    <tr>\n",
       "      <th>509</th>\n",
       "      <td>2500</td>\n",
       "      <td>681.0</td>\n",
       "      <td>1006.0</td>\n",
       "      <td>242.0</td>\n",
       "      <td>457.0</td>\n",
       "      <td>73</td>\n",
       "      <td>0.352346</td>\n",
       "      <td>handkerchief</td>\n",
       "      <td>0.076354</td>\n",
       "    </tr>\n",
       "    <tr>\n",
       "      <th>510</th>\n",
       "      <td>2500</td>\n",
       "      <td>53.0</td>\n",
       "      <td>898.0</td>\n",
       "      <td>31.0</td>\n",
       "      <td>925.0</td>\n",
       "      <td>79</td>\n",
       "      <td>0.102449</td>\n",
       "      <td>digital watch</td>\n",
       "      <td>0.058557</td>\n",
       "    </tr>\n",
       "  </tbody>\n",
       "</table>\n",
       "<p>511 rows × 9 columns</p>\n",
       "</div>"
      ],
      "text/plain": [
       "     frame_idx     x1      y1     x2      y2  coco_label  coco_label_score  \\\n",
       "0           50  536.0  1320.0  168.0   917.0          29          0.274800   \n",
       "1           50  540.0  1321.0  166.0   904.0          32          0.296998   \n",
       "2           50  556.0  1309.0  186.0   916.0          37          0.194854   \n",
       "3           50  550.0  1329.0  161.0   929.0          41          0.245860   \n",
       "4           50  542.0  1351.0  157.0   931.0          45          0.165722   \n",
       "..         ...    ...     ...    ...     ...         ...               ...   \n",
       "506       2500    1.0    86.0  481.0   630.0          66          0.210311   \n",
       "507       2500   26.0  1070.0  144.0  1058.0          66          0.140938   \n",
       "508       2500  638.0   922.0  560.0   786.0          67          0.531089   \n",
       "509       2500  681.0  1006.0  242.0   457.0          73          0.352346   \n",
       "510       2500   53.0   898.0   31.0   925.0          79          0.102449   \n",
       "\n",
       "    imagenet_label  imagenet_label_score  \n",
       "0       volleyball              0.365488  \n",
       "1       volleyball              0.385834  \n",
       "2       volleyball              0.301081  \n",
       "3       volleyball              0.391618  \n",
       "4       volleyball              0.366610  \n",
       "..             ...                   ...  \n",
       "506           rule              0.036090  \n",
       "507  digital watch              0.084933  \n",
       "508  digital watch              0.154304  \n",
       "509   handkerchief              0.076354  \n",
       "510  digital watch              0.058557  \n",
       "\n",
       "[511 rows x 9 columns]"
      ]
     },
     "execution_count": 22,
     "metadata": {},
     "output_type": "execute_result"
    }
   ],
   "source": [
    "video_df = pd.read_csv(csv_fps[0])\n",
    "video_df"
   ]
  },
  {
   "cell_type": "markdown",
   "metadata": {},
   "source": [
    "## Count imagenet classes"
   ]
  },
  {
   "cell_type": "code",
   "execution_count": 29,
   "metadata": {},
   "outputs": [],
   "source": [
    "model_meta = ResNet50_Weights.IMAGENET1K_V2\n",
    "all_imgnet_classes = model_meta.meta['categories']\n",
    "class_counter = Counter({label: 0 for label in all_imgnet_classes})\n",
    "\n",
    "for fp in csv_fps:\n",
    "    video_df = pd.read_csv(fp)\n",
    "    for label in video_df['imagenet_label']:\n",
    "        class_counter[label] += 1"
   ]
  },
  {
   "cell_type": "code",
   "execution_count": 30,
   "metadata": {},
   "outputs": [
    {
     "name": "stdout",
     "output_type": "stream",
     "text": [
      "524\n"
     ]
    }
   ],
   "source": [
    "nonzero_count = 0\n",
    "\n",
    "for category in class_counter.keys():\n",
    "    if class_counter[category] > 0:\n",
    "        nonzero_count += 1\n",
    "print(nonzero_count)"
   ]
  },
  {
   "cell_type": "code",
   "execution_count": 35,
   "metadata": {},
   "outputs": [
    {
     "data": {
      "text/plain": [
       "<BarContainer object of 1000 artists>"
      ]
     },
     "execution_count": 35,
     "metadata": {},
     "output_type": "execute_result"
    },
    {
     "data": {
      "image/png": "[encoded data removed]",
      "text/plain": [
       "<Figure size 432x288 with 1 Axes>"
      ]
     },
     "metadata": {
      "needs_background": "light"
     },
     "output_type": "display_data"
    }
   ],
   "source": [
    "imgnet_count_list = [[category, class_counter[category]] for category in all_imgnet_classes]\n",
    "imgnet_count_list.sort(key=lambda x: x[1])\n",
    "plt.bar([element[0] for element in imgnet_count_list], [element[1] for element in imgnet_count_list])"
   ]
  },
  {
   "cell_type": "code",
   "execution_count": 38,
   "metadata": {},
   "outputs": [
    {
     "name": "stdout",
     "output_type": "stream",
     "text": [
      "['mask', 40]\n",
      "[\"potter's wheel\", 41]\n",
      "['frying pan', 42]\n",
      "['piggy bank', 42]\n",
      "['cocktail shaker', 43]\n",
      "['hourglass', 45]\n",
      "['beaker', 47]\n",
      "['jellyfish', 48]\n",
      "['plastic bag', 48]\n",
      "['punching bag', 48]\n",
      "['ping-pong ball', 52]\n",
      "['pick', 54]\n",
      "['sorrel', 55]\n",
      "['balloon', 56]\n",
      "['dumbbell', 57]\n",
      "['hair spray', 57]\n",
      "['lighter', 57]\n",
      "['modem', 57]\n",
      "['rock beauty', 61]\n",
      "['face powder', 62]\n",
      "['iPod', 67]\n",
      "['pill bottle', 67]\n",
      "['bulletproof vest', 69]\n",
      "['comic book', 71]\n",
      "['neck brace', 72]\n",
      "['black grouse', 79]\n",
      "['ballpoint', 79]\n",
      "['packet', 83]\n",
      "['Petri dish', 83]\n",
      "['velvet', 84]\n",
      "['desktop computer', 86]\n",
      "['oil filter', 102]\n",
      "['cellular telephone', 106]\n",
      "['binder', 107]\n",
      "['nipple', 110]\n",
      "['oxygen mask', 110]\n",
      "['chain', 112]\n",
      "['remote control', 113]\n",
      "['whiskey jug', 130]\n",
      "['dugong', 132]\n",
      "['abaya', 138]\n",
      "['notebook', 141]\n",
      "['hand-held computer', 144]\n",
      "['laptop', 167]\n",
      "['cleaver', 177]\n",
      "['croquet ball', 184]\n",
      "['microphone', 230]\n",
      "['knee pad', 242]\n",
      "['Windsor tie', 314]\n",
      "['milk can', 343]\n"
     ]
    }
   ],
   "source": [
    "for element in imgnet_count_list[-50:]:\n",
    "    print(element)"
   ]
  }
 ],
 "metadata": {
  "kernelspec": {
   "display_name": "Python 3.8.15 ('oln': conda)",
   "language": "python",
   "name": "python3"
  },
  "language_info": {
   "codemirror_mode": {
    "name": "ipython",
    "version": 3
   },
   "file_extension": ".py",
   "mimetype": "text/x-python",
   "name": "python",
   "nbconvert_exporter": "python",
   "pygments_lexer": "ipython3",
   "version": "3.8.15"
  },
  "orig_nbformat": 4,
  "vscode": {
   "interpreter": {
    "hash": "eeb746b603e7fadf611af56fdd0547e9654ee15c307733b03ad5530c6c70b658"
   }
  }
 },
 "nbformat": 4,
 "nbformat_minor": 2
}
